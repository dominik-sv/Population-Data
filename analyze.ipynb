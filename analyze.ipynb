{
 "cells": [
  {
   "cell_type": "code",
   "execution_count": 263,
   "id": "2a2a1b1e",
   "metadata": {},
   "outputs": [],
   "source": [
    "import pandas as pd\n",
    "import matplotlib.pyplot as plt\n",
    "import numpy as np"
   ]
  },
  {
   "cell_type": "code",
   "execution_count": 264,
   "id": "5d6d259b",
   "metadata": {},
   "outputs": [],
   "source": [
    "df = pd.read_csv('Data.csv', encoding='cp1250')"
   ]
  },
  {
   "cell_type": "code",
   "execution_count": 265,
   "id": "dd4b70e2",
   "metadata": {},
   "outputs": [
    {
     "data": {
      "text/plain": [
       "Index(['Kód okresu', 'Název okresu', 'Věk', 'Pohlaví', 'Rodinný stav',\n",
       "       'Nejvyšší dosažené vzdělání', 'Počet osob'],\n",
       "      dtype='object')"
      ]
     },
     "execution_count": 265,
     "metadata": {},
     "output_type": "execute_result"
    }
   ],
   "source": [
    "df.columns"
   ]
  },
  {
   "cell_type": "code",
   "execution_count": 266,
   "id": "f154a1b3",
   "metadata": {},
   "outputs": [
    {
     "data": {
      "text/html": [
       "<div>\n",
       "<style scoped>\n",
       "    .dataframe tbody tr th:only-of-type {\n",
       "        vertical-align: middle;\n",
       "    }\n",
       "\n",
       "    .dataframe tbody tr th {\n",
       "        vertical-align: top;\n",
       "    }\n",
       "\n",
       "    .dataframe thead th {\n",
       "        text-align: right;\n",
       "    }\n",
       "</style>\n",
       "<table border=\"1\" class=\"dataframe\">\n",
       "  <thead>\n",
       "    <tr style=\"text-align: right;\">\n",
       "      <th></th>\n",
       "      <th>Kód okresu</th>\n",
       "      <th>Název okresu</th>\n",
       "      <th>Věk</th>\n",
       "      <th>Pohlaví</th>\n",
       "      <th>Rodinný stav</th>\n",
       "      <th>Nejvyšší dosažené vzdělání</th>\n",
       "      <th>Počet osob</th>\n",
       "    </tr>\n",
       "  </thead>\n",
       "  <tbody>\n",
       "    <tr>\n",
       "      <th>0</th>\n",
       "      <td>CZ0201</td>\n",
       "      <td>Benešov</td>\n",
       "      <td>0</td>\n",
       "      <td>muž</td>\n",
       "      <td>Svobodný/svobodná</td>\n",
       "      <td>nedefinováno - osoby ve věku 0–14 let</td>\n",
       "      <td>507</td>\n",
       "    </tr>\n",
       "    <tr>\n",
       "      <th>1</th>\n",
       "      <td>CZ0201</td>\n",
       "      <td>Benešov</td>\n",
       "      <td>0</td>\n",
       "      <td>žena</td>\n",
       "      <td>Svobodný/svobodná</td>\n",
       "      <td>nedefinováno - osoby ve věku 0–14 let</td>\n",
       "      <td>504</td>\n",
       "    </tr>\n",
       "    <tr>\n",
       "      <th>2</th>\n",
       "      <td>CZ0201</td>\n",
       "      <td>Benešov</td>\n",
       "      <td>1</td>\n",
       "      <td>muž</td>\n",
       "      <td>Svobodný/svobodná</td>\n",
       "      <td>nedefinováno - osoby ve věku 0–14 let</td>\n",
       "      <td>513</td>\n",
       "    </tr>\n",
       "    <tr>\n",
       "      <th>3</th>\n",
       "      <td>CZ0201</td>\n",
       "      <td>Benešov</td>\n",
       "      <td>1</td>\n",
       "      <td>žena</td>\n",
       "      <td>Svobodný/svobodná</td>\n",
       "      <td>nedefinováno - osoby ve věku 0–14 let</td>\n",
       "      <td>538</td>\n",
       "    </tr>\n",
       "    <tr>\n",
       "      <th>4</th>\n",
       "      <td>CZ0201</td>\n",
       "      <td>Benešov</td>\n",
       "      <td>2</td>\n",
       "      <td>muž</td>\n",
       "      <td>Svobodný/svobodná</td>\n",
       "      <td>nedefinováno - osoby ve věku 0–14 let</td>\n",
       "      <td>565</td>\n",
       "    </tr>\n",
       "  </tbody>\n",
       "</table>\n",
       "</div>"
      ],
      "text/plain": [
       "  Kód okresu Název okresu Věk Pohlaví       Rodinný stav  \\\n",
       "0     CZ0201      Benešov   0     muž  Svobodný/svobodná   \n",
       "1     CZ0201      Benešov   0    žena  Svobodný/svobodná   \n",
       "2     CZ0201      Benešov   1     muž  Svobodný/svobodná   \n",
       "3     CZ0201      Benešov   1    žena  Svobodný/svobodná   \n",
       "4     CZ0201      Benešov   2     muž  Svobodný/svobodná   \n",
       "\n",
       "              Nejvyšší dosažené vzdělání  Počet osob  \n",
       "0  nedefinováno - osoby ve věku 0–14 let         507  \n",
       "1  nedefinováno - osoby ve věku 0–14 let         504  \n",
       "2  nedefinováno - osoby ve věku 0–14 let         513  \n",
       "3  nedefinováno - osoby ve věku 0–14 let         538  \n",
       "4  nedefinováno - osoby ve věku 0–14 let         565  "
      ]
     },
     "execution_count": 266,
     "metadata": {},
     "output_type": "execute_result"
    }
   ],
   "source": [
    "df.head()"
   ]
  },
  {
   "cell_type": "code",
   "execution_count": 267,
   "id": "e0819915",
   "metadata": {},
   "outputs": [
    {
     "data": {
      "text/plain": [
       "Kód okresu                    object\n",
       "Název okresu                  object\n",
       "Věk                           object\n",
       "Pohlaví                       object\n",
       "Rodinný stav                  object\n",
       "Nejvyšší dosažené vzdělání    object\n",
       "Počet osob                     int64\n",
       "dtype: object"
      ]
     },
     "execution_count": 267,
     "metadata": {},
     "output_type": "execute_result"
    }
   ],
   "source": [
    "df.dtypes"
   ]
  },
  {
   "cell_type": "code",
   "execution_count": 268,
   "id": "899c27aa",
   "metadata": {},
   "outputs": [
    {
     "data": {
      "text/plain": [
       "array(['nedefinováno - osoby ve věku 0–14 let', 'bez vzdělání',\n",
       "       'nedokončené základní vzdělání', 'základní vzdělání', 'nezjištěno',\n",
       "       'střední nebo vyučení (bez maturity)',\n",
       "       'úplné střední všeobecné (s maturitou)',\n",
       "       'úplné střední odborné (s maturitou)', 'konzervatoř',\n",
       "       'nástavbové/zkrácené studium, absolvování dvou a více oborů středních škol',\n",
       "       'pomaturitní studium', 'bakalářské', 'vyšší odborné vzdělání',\n",
       "       'magisterské', 'doktorské'], dtype=object)"
      ]
     },
     "execution_count": 268,
     "metadata": {},
     "output_type": "execute_result"
    }
   ],
   "source": [
    "df['Nejvyšší dosažené vzdělání'].unique()"
   ]
  },
  {
   "cell_type": "markdown",
   "id": "e9bda218",
   "metadata": {},
   "source": [
    "# Pohlaví vzdělání"
   ]
  },
  {
   "cell_type": "code",
   "execution_count": 269,
   "id": "2dcd0602",
   "metadata": {},
   "outputs": [
    {
     "data": {
      "text/plain": [
       "<pandas.core.groupby.generic.DataFrameGroupBy object at 0x0000027A69B3C090>"
      ]
     },
     "execution_count": 269,
     "metadata": {},
     "output_type": "execute_result"
    }
   ],
   "source": [
    "df.groupby('Pohlaví')"
   ]
  },
  {
   "cell_type": "code",
   "execution_count": 270,
   "id": "f5beb99d",
   "metadata": {},
   "outputs": [
    {
     "data": {
      "text/plain": [
       "(404968, 7)"
      ]
     },
     "execution_count": 270,
     "metadata": {},
     "output_type": "execute_result"
    }
   ],
   "source": [
    "df.shape"
   ]
  },
  {
   "cell_type": "code",
   "execution_count": 271,
   "id": "f3e9f3ef",
   "metadata": {},
   "outputs": [],
   "source": [
    "def split_by(df: pd.DataFrame, column: str) -> list:\n",
    "    return [df[df[column] == column_type]['Věk'] for column_type in df[column].unique()]"
   ]
  },
  {
   "cell_type": "code",
   "execution_count": 272,
   "id": "dcb9f1e4",
   "metadata": {},
   "outputs": [],
   "source": [
    "def convert_age_to_int(s: str) -> int:\n",
    "    return 100 if s.endswith('+') else int(s)\n",
    "df['Věk'] = df['Věk'].apply(convert_age_to_int)"
   ]
  },
  {
   "cell_type": "code",
   "execution_count": 273,
   "id": "a82a5d91",
   "metadata": {},
   "outputs": [],
   "source": [
    "education = pd.DataFrame(columns=['Věk', 'Pohlaví', 'Vysokoškolsky vzdělaný', 'Počet osob', 'Poměr vzdělaných'])\n",
    "for age in df['Věk'].unique():\n",
    "    df_age = df[df['Věk'] == age]\n",
    "    for gender in ('muž', 'žena'):\n",
    "        df_gender = df_age[df_age['Pohlaví'] == gender]\n",
    "        total = df_gender['Počet osob'].astype(int).sum()\n",
    "        educated = df_gender[df_gender['Nejvyšší dosažené vzdělání'].isin(['bakalářské', 'vyšší odborné vzdělání', 'magisterské', 'doktorské'])]['Počet osob'].astype(int).sum()\n",
    "        percentage_educated = educated / total * 100\n",
    "        new_row = pd.DataFrame([[age, gender, educated, total, percentage_educated]], columns = education.columns)\n",
    "        if education.empty:\n",
    "            education = new_row\n",
    "        else:\n",
    "            education = pd.concat([education, new_row])\n",
    "\n",
    "df_edu = education.pivot(index = 'Věk', columns = 'Pohlaví', values = 'Vysokoškolsky vzdělaný')\n",
    "df_pop = education.pivot(index = 'Věk', columns = 'Pohlaví', values = 'Počet osob')\n",
    "df_perc = education.pivot(index = 'Věk', columns = 'Pohlaví', values = 'Poměr vzdělaných')"
   ]
  },
  {
   "cell_type": "code",
   "execution_count": 303,
   "id": "275628c7",
   "metadata": {},
   "outputs": [
    {
     "data": {
      "image/png": "[encoded data removed]",
      "text/plain": [
       "<Figure size 1200x500 with 2 Axes>"
      ]
     },
     "metadata": {},
     "output_type": "display_data"
    }
   ],
   "source": [
    "ages = df_edu.index\n",
    "male = df_edu.get('muž')\n",
    "female = df_edu.get('žena')\n",
    "male_pop = df_pop.get('muž')\n",
    "female_pop = df_pop.get('žena')\n",
    "y = np.arange(len(ages))\n",
    "height = 0.8\n",
    "fig, (ax1, ax2) = plt.subplots(1, 2, figsize=(12, 5))\n",
    "\n",
    "ax1.barh(y = y, width = -female_pop, height = height, label = 'ženy populace', color = 'grey')\n",
    "ax1.barh(y = y, width = -female, height = height, label = 'ženy', color = 'red')\n",
    "ax1.set_ylim(0, 101)\n",
    "ax1.set_ylabel('Věk')\n",
    "ax1.set_xlabel('Počet osob')\n",
    "ax1.legend()\n",
    "ax1.set_title('Počet vysokoškolsky vzdělaných osob mezi ženy')\n",
    "\n",
    "ax2.barh(y = y, width = male_pop, height = height, label = 'muži populace', color = 'grey')\n",
    "ax2.barh(y = y, width = male, height = height, label = 'muži', color = 'blue')\n",
    "ax2.set_ylim(0, 101)\n",
    "ax2.set_xlabel('Věk')\n",
    "ax2.set_ylabel('Počet osob')\n",
    "ax2.legend()\n",
    "ax2.set_title('Počet vysokoškolsky vzdělaných osob mezi muži')\n",
    "\n",
    "plt.show()"
   ]
  },
  {
   "cell_type": "code",
   "execution_count": 296,
   "id": "ce18fa61",
   "metadata": {},
   "outputs": [
    {
     "data": {
      "image/png": "[encoded data removed]",
      "text/plain": [
       "<Figure size 640x480 with 1 Axes>"
      ]
     },
     "metadata": {},
     "output_type": "display_data"
    }
   ],
   "source": [
    "ages = df_perc.index\n",
    "male = df_perc.get('muž')\n",
    "female = df_perc.get('žena')\n",
    "x = np.arange(len(ages))\n",
    "width = 0.5\n",
    "plt.hlines(np.arange(10, 100, 10), xmin = 0, xmax = 200, color = 'grey', alpha = 0.4)\n",
    "plt.bar(x = x - width / 2, height = male, width = width, label = 'muži', color = 'blue')\n",
    "plt.bar(x = x + width / 2, height = female, width = width, label = 'ženy', color = 'red')\n",
    "plt.xlim(19, 101)\n",
    "plt.ylim(0, 50)\n",
    "plt.xlabel('Věk')\n",
    "plt.ylabel('Poměr osob (%)')\n",
    "plt.title('Poměr vysokoškolsky vzdělaných osob na pohlaví')\n",
    "plt.legend()\n",
    "plt.show()"
   ]
  },
  {
   "cell_type": "code",
   "execution_count": 304,
   "id": "5d1bdca0",
   "metadata": {},
   "outputs": [
    {
     "name": "stdout",
     "output_type": "stream",
     "text": [
      "\u001b[1;31mSignature:\u001b[0m\n",
      "\u001b[0mplt\u001b[0m\u001b[1;33m.\u001b[0m\u001b[0mbarh\u001b[0m\u001b[1;33m(\u001b[0m\u001b[1;33m\n",
      "\u001b[0m    \u001b[0my\u001b[0m\u001b[1;33m:\u001b[0m \u001b[1;34m'float | ArrayLike'\u001b[0m\u001b[1;33m,\u001b[0m\u001b[1;33m\n",
      "\u001b[0m    \u001b[0mwidth\u001b[0m\u001b[1;33m:\u001b[0m \u001b[1;34m'float | ArrayLike'\u001b[0m\u001b[1;33m,\u001b[0m\u001b[1;33m\n",
      "\u001b[0m    \u001b[0mheight\u001b[0m\u001b[1;33m:\u001b[0m \u001b[1;34m'float | ArrayLike'\u001b[0m \u001b[1;33m=\u001b[0m \u001b[1;36m0.8\u001b[0m\u001b[1;33m,\u001b[0m\u001b[1;33m\n",
      "\u001b[0m    \u001b[0mleft\u001b[0m\u001b[1;33m:\u001b[0m \u001b[1;34m'float | ArrayLike | None'\u001b[0m \u001b[1;33m=\u001b[0m \u001b[1;32mNone\u001b[0m\u001b[1;33m,\u001b[0m\u001b[1;33m\n",
      "\u001b[0m    \u001b[1;33m*\u001b[0m\u001b[1;33m,\u001b[0m\u001b[1;33m\n",
      "\u001b[0m    \u001b[0malign\u001b[0m\u001b[1;33m:\u001b[0m \u001b[1;34m\"Literal['center', 'edge']\"\u001b[0m \u001b[1;33m=\u001b[0m \u001b[1;34m'center'\u001b[0m\u001b[1;33m,\u001b[0m\u001b[1;33m\n",
      "\u001b[0m    \u001b[0mdata\u001b[0m\u001b[1;33m=\u001b[0m\u001b[1;32mNone\u001b[0m\u001b[1;33m,\u001b[0m\u001b[1;33m\n",
      "\u001b[0m    \u001b[1;33m**\u001b[0m\u001b[0mkwargs\u001b[0m\u001b[1;33m,\u001b[0m\u001b[1;33m\n",
      "\u001b[0m\u001b[1;33m)\u001b[0m \u001b[1;33m->\u001b[0m \u001b[1;34m'BarContainer'\u001b[0m\u001b[1;33m\u001b[0m\u001b[1;33m\u001b[0m\u001b[0m\n",
      "\u001b[1;31mDocstring:\u001b[0m\n",
      "Make a horizontal bar plot.\n",
      "\n",
      "The bars are positioned at *y* with the given *align*\\ment. Their\n",
      "dimensions are given by *width* and *height*. The horizontal baseline\n",
      "is *left* (default 0).\n",
      "\n",
      "Many parameters can take either a single value applying to all bars\n",
      "or a sequence of values, one for each bar.\n",
      "\n",
      "Parameters\n",
      "----------\n",
      "y : float or array-like\n",
      "    The y coordinates of the bars. See also *align* for the\n",
      "    alignment of the bars to the coordinates.\n",
      "\n",
      "width : float or array-like\n",
      "    The width(s) of the bars.\n",
      "\n",
      "    Note that if *left* has units (e.g. datetime), *width* should be in\n",
      "    units that are a difference from the value of *left* (e.g. timedelta).\n",
      "\n",
      "height : float or array-like, default: 0.8\n",
      "    The heights of the bars.\n",
      "\n",
      "    Note that if *y* has units (e.g. datetime), then *height* should be in\n",
      "    units that are a difference (e.g. timedelta) around the *y* values.\n",
      "\n",
      "left : float or array-like, default: 0\n",
      "    The x coordinates of the left side(s) of the bars.\n",
      "\n",
      "    Note that if *left* has units, then the x-axis will get a Locator and\n",
      "    Formatter appropriate for the units (e.g. dates, or categorical).\n",
      "\n",
      "align : {'center', 'edge'}, default: 'center'\n",
      "    Alignment of the base to the *y* coordinates*:\n",
      "\n",
      "    - 'center': Center the bars on the *y* positions.\n",
      "    - 'edge': Align the bottom edges of the bars with the *y*\n",
      "      positions.\n",
      "\n",
      "    To align the bars on the top edge pass a negative *height* and\n",
      "    ``align='edge'``.\n",
      "\n",
      "Returns\n",
      "-------\n",
      "`.BarContainer`\n",
      "    Container with all the bars and optionally errorbars.\n",
      "\n",
      "Other Parameters\n",
      "----------------\n",
      "color : :mpltype:`color` or list of :mpltype:`color`, optional\n",
      "    The colors of the bar faces.\n",
      "\n",
      "edgecolor : :mpltype:`color` or list of :mpltype:`color`, optional\n",
      "    The colors of the bar edges.\n",
      "\n",
      "linewidth : float or array-like, optional\n",
      "    Width of the bar edge(s). If 0, don't draw edges.\n",
      "\n",
      "tick_label : str or list of str, optional\n",
      "    The tick labels of the bars.\n",
      "    Default: None (Use default numeric labels.)\n",
      "\n",
      "label : str or list of str, optional\n",
      "    A single label is attached to the resulting `.BarContainer` as a\n",
      "    label for the whole dataset.\n",
      "    If a list is provided, it must be the same length as *y* and\n",
      "    labels the individual bars. Repeated labels are not de-duplicated\n",
      "    and will cause repeated label entries, so this is best used when\n",
      "    bars also differ in style (e.g., by passing a list to *color*.)\n",
      "\n",
      "xerr, yerr : float or array-like of shape(N,) or shape(2, N), optional\n",
      "    If not *None*, add horizontal / vertical errorbars to the bar tips.\n",
      "    The values are +/- sizes relative to the data:\n",
      "\n",
      "    - scalar: symmetric +/- values for all bars\n",
      "    - shape(N,): symmetric +/- values for each bar\n",
      "    - shape(2, N): Separate - and + values for each bar. First row\n",
      "      contains the lower errors, the second row contains the upper\n",
      "      errors.\n",
      "    - *None*: No errorbar. (default)\n",
      "\n",
      "    See :doc:`/gallery/statistics/errorbar_features` for an example on\n",
      "    the usage of *xerr* and *yerr*.\n",
      "\n",
      "ecolor : :mpltype:`color` or list of :mpltype:`color`, default: 'black'\n",
      "    The line color of the errorbars.\n",
      "\n",
      "capsize : float, default: :rc:`errorbar.capsize`\n",
      "   The length of the error bar caps in points.\n",
      "\n",
      "error_kw : dict, optional\n",
      "    Dictionary of keyword arguments to be passed to the\n",
      "    `~.Axes.errorbar` method. Values of *ecolor* or *capsize* defined\n",
      "    here take precedence over the independent keyword arguments.\n",
      "\n",
      "log : bool, default: False\n",
      "    If ``True``, set the x-axis to be log scale.\n",
      "\n",
      "data : indexable object, optional\n",
      "    If given, all parameters also accept a string ``s``, which is\n",
      "    interpreted as ``data[s]`` if  ``s`` is a key in ``data``.\n",
      "\n",
      "**kwargs : `.Rectangle` properties\n",
      "\n",
      "Properties:\n",
      "    agg_filter: a filter function, which takes a (m, n, 3) float array and a dpi value, and returns a (m, n, 3) array and two offsets from the bottom left corner of the image\n",
      "    alpha: scalar or None\n",
      "    angle: unknown\n",
      "    animated: bool\n",
      "    antialiased or aa: bool or None\n",
      "    bounds: (left, bottom, width, height)\n",
      "    capstyle: `.CapStyle` or {'butt', 'projecting', 'round'}\n",
      "    clip_box: `~matplotlib.transforms.BboxBase` or None\n",
      "    clip_on: bool\n",
      "    clip_path: Patch or (Path, Transform) or None\n",
      "    color: :mpltype:`color`\n",
      "    edgecolor or ec: :mpltype:`color` or None\n",
      "    facecolor or fc: :mpltype:`color` or None\n",
      "    figure: `~matplotlib.figure.Figure` or `~matplotlib.figure.SubFigure`\n",
      "    fill: bool\n",
      "    gid: str\n",
      "    hatch: {'/', '\\\\', '|', '-', '+', 'x', 'o', 'O', '.', '*'}\n",
      "    hatch_linewidth: unknown\n",
      "    height: unknown\n",
      "    in_layout: bool\n",
      "    joinstyle: `.JoinStyle` or {'miter', 'round', 'bevel'}\n",
      "    label: object\n",
      "    linestyle or ls: {'-', '--', '-.', ':', '', (offset, on-off-seq), ...}\n",
      "    linewidth or lw: float or None\n",
      "    mouseover: bool\n",
      "    path_effects: list of `.AbstractPathEffect`\n",
      "    picker: None or bool or float or callable\n",
      "    rasterized: bool\n",
      "    sketch_params: (scale: float, length: float, randomness: float)\n",
      "    snap: bool or None\n",
      "    transform: `~matplotlib.transforms.Transform`\n",
      "    url: str\n",
      "    visible: bool\n",
      "    width: unknown\n",
      "    x: unknown\n",
      "    xy: (float, float)\n",
      "    y: unknown\n",
      "    zorder: float\n",
      "\n",
      "See Also\n",
      "--------\n",
      "bar : Plot a vertical bar plot.\n",
      "\n",
      "Notes\n",
      "-----\n",
      "\n",
      ".. note::\n",
      "\n",
      "    This is the :ref:`pyplot wrapper <pyplot_interface>` for `.axes.Axes.barh`.\n",
      "\n",
      "Stacked bars can be achieved by passing individual *left* values per\n",
      "bar. See\n",
      ":doc:`/gallery/lines_bars_and_markers/horizontal_barchart_distribution`.\n",
      "\u001b[1;31mFile:\u001b[0m      c:\\users\\svest\\appdata\\local\\packages\\pythonsoftwarefoundation.python.3.11_qbz5n2kfra8p0\\localcache\\local-packages\\python311\\site-packages\\matplotlib\\pyplot.py\n",
      "\u001b[1;31mType:\u001b[0m      function"
     ]
    }
   ],
   "source": [
    "plt.barh?"
   ]
  }
 ],
 "metadata": {
  "kernelspec": {
   "display_name": "Python 3",
   "language": "python",
   "name": "python3"
  },
  "language_info": {
   "codemirror_mode": {
    "name": "ipython",
    "version": 3
   },
   "file_extension": ".py",
   "mimetype": "text/x-python",
   "name": "python",
   "nbconvert_exporter": "python",
   "pygments_lexer": "ipython3",
   "version": "3.11.9"
  }
 },
 "nbformat": 4,
 "nbformat_minor": 5
}
